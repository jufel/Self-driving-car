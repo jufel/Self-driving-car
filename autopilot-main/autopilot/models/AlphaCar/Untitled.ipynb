{
 "cells": [
  {
   "cell_type": "code",
   "execution_count": null,
   "id": "47bc9937",
   "metadata": {},
   "outputs": [],
   "source": [
    "import numpy as np\n",
    "import tensorflow as tf\n",
    "import os\n",
    "\n",
    "class Model:\n",
    "\n",
    "    saved_speed_model = 'speed_model/'\n",
    "    saved_angle_model = 'angle_model/'\n",
    "    saved_signal_model = 'signal_model/'\n",
    "    \n",
    "    def __init__(self):\n",
    "        self.speed_model = tf.keras.models.load_model(os.path.join(os.path.dirname(os.path.abspath(__file__)), self.saved_speed_model))\n",
    "        self.angle_model = tf.keras.models.load_model(os.path.join(os.path.dirname(os.path.abspath(__file__)), self.saved_angle_model))\n",
    "        self.signal_model = tf.keras.models.load_model(os.path.join(os.path.dirname(os.path.abspath(__file__)), self.saved_signal_model))\n",
    "\n",
    "    def preprocess(self, image):\n",
    "        img = tf.image.convert_image_dtype(image, tf.float32)\n",
    "        img = tf.image.resize(img,(224, 224))\n",
    "        img = tf.reshape(img,(1,224,224,3))\n",
    "        return img\n",
    "\n",
    "    def predict(self, image):\n",
    "        image = self.preprocess(image)\n",
    "        angle_value = self.angle_model.predict(image)[0][0]\n",
    "        speed_value = self.speed_model.predict(image)[0][0]\n",
    "        signal_value = self.signal_model.predict(image)[0]\n",
    "        \n",
    "        if max(signal_value) != signal_value[0]:\n",
    "            if abs(signal_value[1]-signal_value[2]) > 0.1:\n",
    "                if signal_value[1] > signal_value[2]:\n",
    "                    speed = 1\n",
    "                else:\n",
    "                    speed = 0\n",
    "            else:\n",
    "                speed = speed_value\n",
    "        else:\n",
    "            speed = speed_value\n",
    "        if abs((1 - speed)) < abs((0-speed)):\n",
    "            speed = 30\n",
    "        else:\n",
    "            speed = 0\n",
    "        angle = angle_value * 80 + 50\n",
    "        angle = 5 * round(angle/5)\n",
    "        if angle < 50:\n",
    "            angle = 50\n",
    "        if angle > 130:\n",
    "            angle = 130\n",
    "\n",
    "        print('angle:', angle,'speed:', speed)\n",
    "        \n",
    "        return angle, speed\n",
    "\n"
   ]
  },
  {
   "cell_type": "code",
   "execution_count": 1,
   "id": "474f8387",
   "metadata": {},
   "outputs": [],
   "source": [
    "import numpy as np\n",
    "import tensorflow as tf\n",
    "import os"
   ]
  },
  {
   "cell_type": "code",
   "execution_count": 3,
   "id": "e92f70a5",
   "metadata": {},
   "outputs": [
    {
     "name": "stderr",
     "output_type": "stream",
     "text": [
      "2022-05-11 15:08:14.405561: I tensorflow/core/common_runtime/pluggable_device/pluggable_device_factory.cc:305] Could not identify NUMA node of platform GPU ID 0, defaulting to 0. Your kernel may not have been built with NUMA support.\n",
      "2022-05-11 15:08:14.405703: I tensorflow/core/common_runtime/pluggable_device/pluggable_device_factory.cc:271] Created TensorFlow device (/job:localhost/replica:0/task:0/device:GPU:0 with 0 MB memory) -> physical PluggableDevice (device: 0, name: METAL, pci bus id: <undefined>)\n"
     ]
    },
    {
     "name": "stdout",
     "output_type": "stream",
     "text": [
      "Metal device set to: Apple M1 Max\n"
     ]
    }
   ],
   "source": [
    "import tensorflow as tf\n",
    "speed_model = tf.keras.models.load_model(\"speed_model\")"
   ]
  },
  {
   "cell_type": "code",
   "execution_count": 6,
   "id": "44886184",
   "metadata": {},
   "outputs": [
    {
     "name": "stderr",
     "output_type": "stream",
     "text": [
      "2022-05-11 15:10:18.204800: W tensorflow/compiler/mlir/lite/python/tf_tfl_flatbuffer_helpers.cc:363] Ignored output_format.\n",
      "2022-05-11 15:10:18.204816: W tensorflow/compiler/mlir/lite/python/tf_tfl_flatbuffer_helpers.cc:366] Ignored drop_control_dependency.\n",
      "2022-05-11 15:10:18.204818: W tensorflow/compiler/mlir/lite/python/tf_tfl_flatbuffer_helpers.cc:372] Ignored change_concat_input_ranges.\n",
      "2022-05-11 15:10:18.204892: I tensorflow/cc/saved_model/reader.cc:43] Reading SavedModel from: angle_model\n",
      "2022-05-11 15:10:18.224611: I tensorflow/cc/saved_model/reader.cc:107] Reading meta graph with tags { serve }\n",
      "2022-05-11 15:10:18.224631: I tensorflow/cc/saved_model/reader.cc:148] Reading SavedModel debug info (if present) from: angle_model\n",
      "2022-05-11 15:10:18.292716: I tensorflow/cc/saved_model/loader.cc:210] Restoring SavedModel bundle.\n",
      "2022-05-11 15:10:18.575230: I tensorflow/cc/saved_model/loader.cc:194] Running initialization op on SavedModel bundle at path: angle_model\n",
      "2022-05-11 15:10:18.688465: I tensorflow/cc/saved_model/loader.cc:283] SavedModel load for tags { serve }; Status: success: OK. Took 483573 microseconds.\n",
      "WARNING:absl:Buffer deduplication procedure will be skipped when flatbuffer library is not properly loaded\n"
     ]
    }
   ],
   "source": [
    "\n",
    "# Convert the model\n",
    "converter = tf.lite.TFLiteConverter.from_saved_model(\"angle_model\") # path to the SavedModel directory\n",
    "tflite_model = converter.convert()\n",
    "\n",
    "# Save the model.\n",
    "with open('angle_model.tflite', 'wb') as f:\n",
    "    f.write(tflite_model)"
   ]
  },
  {
   "cell_type": "code",
   "execution_count": null,
   "id": "727cf79d",
   "metadata": {},
   "outputs": [],
   "source": []
  }
 ],
 "metadata": {
  "kernelspec": {
   "display_name": "Python 3 (ipykernel)",
   "language": "python",
   "name": "python3"
  },
  "language_info": {
   "codemirror_mode": {
    "name": "ipython",
    "version": 3
   },
   "file_extension": ".py",
   "mimetype": "text/x-python",
   "name": "python",
   "nbconvert_exporter": "python",
   "pygments_lexer": "ipython3",
   "version": "3.9.7"
  }
 },
 "nbformat": 4,
 "nbformat_minor": 5
}
